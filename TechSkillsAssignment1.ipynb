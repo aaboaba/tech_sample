{
 "cells": [
  {
   "cell_type": "markdown",
   "metadata": {},
   "source": [
    "**1.**\n",
    "The radius of a circle is 5.5. Write a script to compute the area of a circle."
   ]
  },
  {
   "cell_type": "markdown",
   "metadata": {},
   "source": [
    "**2.**\n",
    "Write a program where Python prints your name, then print them in reverse order with a comma between them.  Put this in the same cell.    \n",
    "\n",
    "For example:\n",
    "\n",
    "Sophia Barrett    \n",
    "Barrett, Sophia"
   ]
  },
  {
   "cell_type": "markdown",
   "metadata": {},
   "source": [
    "**3.**  Write a program to test if a number is divisible by 5."
   ]
  },
  {
   "cell_type": "markdown",
   "metadata": {},
   "source": [
    "**4.**  What is the output of the following program?  \n",
    "\n",
    "a = 1  \n",
    "b = a * 2  \n",
    "c = 2 * b + 1  \n",
    "print(a)  \n",
    "print(b)  \n",
    "print(c)  "
   ]
  },
  {
   "cell_type": "markdown",
   "metadata": {},
   "source": [
    "**5.**  What is the output of the following program?  \n",
    "\n",
    "a = 2  \n",
    "b = a * 2  \n",
    "c = b ** a  \n",
    "a = c % 2  \n",
    "print(a)  \n",
    "print(b)  \n",
    "print(c)  "
   ]
  },
  {
   "cell_type": "markdown",
   "metadata": {},
   "source": [
    "**6.**    What is the output of the following program?  \n",
    "\n",
    "a = 5  \n",
    "b = a // 2  \n",
    "c = a / 2  \n",
    "a = a % 2  \n",
    "print(a)  \n",
    "print(b)  \n",
    "print(c)  "
   ]
  },
  {
   "cell_type": "markdown",
   "metadata": {},
   "source": [
    "**7.**  Type each of the following commands.  Note each response.    \n",
    "print(\"Hello, world!\")    \n",
    "print(\"Hello\", \"world!\")  \n",
    "print(3)  \n",
    "print(3.0)  \n",
    "print(2 + 3)  \n",
    "print(2.0 + 3.0)  \n",
    "print(2 * 3)  \n",
    "print(2 ** 3)\n",
    "print(7 / 3)  \n",
    "print(7 // 3)  "
   ]
  },
  {
   "cell_type": "markdown",
   "metadata": {},
   "source": [
    "**8.**\n",
    "\n",
    "Create a program with a name and age.  Then have it print out a message addressed to name that tells them the year that they will turn 100 years old."
   ]
  },
  {
   "cell_type": "markdown",
   "metadata": {},
   "source": [
    "**9.**  Create a sequence of numbers from 3 to 19, but increment by 2.  "
   ]
  },
  {
   "cell_type": "markdown",
   "metadata": {},
   "source": [
    "**10.**  Try to solve this problem on your own first, then check your results with python.    \n",
    "  \n",
    "  \n",
    "a = 21\n",
    "b = 10\n",
    "c = 0\n",
    "\n",
    "c = a + b\n",
    "print \"Line 1 - Value of c is \", c\n",
    "\n",
    "c += a\n",
    "print \"Line 2 - Value of c is \", c \n",
    "\n",
    "c *= a\n",
    "print \"Line 3 - Value of c is \", c \n",
    "\n",
    "c /= a \n",
    "print \"Line 4 - Value of c is \", c \n",
    "\n",
    "c  = 2\n",
    "c %= a\n",
    "print \"Line 5 - Value of c is \", c\n",
    "\n",
    "c **= a\n",
    "print \"Line 6 - Value of c is \", c\n",
    "\n",
    "c //= a\n",
    "print \"Line 7 - Value of c is \", c"
   ]
  },
  {
   "cell_type": "code",
   "execution_count": 19,
   "metadata": {},
   "outputs": [
    {
     "data": {
      "text/plain": [
       "94.985"
      ]
     },
     "execution_count": 19,
     "metadata": {},
     "output_type": "execute_result"
    }
   ],
   "source": [
    "#Question 1\n",
    "r = 5.5\n",
    "pi = 3.14\n",
    "\n",
    "A = pi * (r**2)\n",
    "A"
   ]
  },
  {
   "cell_type": "code",
   "execution_count": 20,
   "metadata": {},
   "outputs": [
    {
     "name": "stdout",
     "output_type": "stream",
     "text": [
      "Abigeal Aboaba\n",
      "Aboaba , Abigeal\n"
     ]
    }
   ],
   "source": [
    "#Question 2\n",
    "first_name = \"Abigeal\"\n",
    "last_name = \"Aboaba\"\n",
    "print(first_name, last_name)\n",
    "print(last_name,\",\",first_name)"
   ]
  },
  {
   "cell_type": "code",
   "execution_count": 11,
   "metadata": {},
   "outputs": [
    {
     "data": {
      "text/plain": [
       "True"
      ]
     },
     "execution_count": 11,
     "metadata": {},
     "output_type": "execute_result"
    }
   ],
   "source": [
    "#Question 3\n",
    "10 % 5 == 0"
   ]
  },
  {
   "cell_type": "code",
   "execution_count": 22,
   "metadata": {},
   "outputs": [
    {
     "name": "stdout",
     "output_type": "stream",
     "text": [
      "1\n",
      "2\n",
      "5\n"
     ]
    }
   ],
   "source": [
    "#Question 4\n",
    "a = 1\n",
    "b = a * 2\n",
    "c = 2 * b + 1\n",
    "print(a)\n",
    "print(b)\n",
    "print(c)"
   ]
  },
  {
   "cell_type": "code",
   "execution_count": 24,
   "metadata": {},
   "outputs": [
    {
     "name": "stdout",
     "output_type": "stream",
     "text": [
      "0\n",
      "4\n",
      "16\n"
     ]
    }
   ],
   "source": [
    "#Question 5\n",
    "a = 2\n",
    "b = a * 2\n",
    "c = b ** a\n",
    "a = c % 2\n",
    "print(a)\n",
    "print(b)\n",
    "print(c)"
   ]
  },
  {
   "cell_type": "code",
   "execution_count": 23,
   "metadata": {},
   "outputs": [
    {
     "name": "stdout",
     "output_type": "stream",
     "text": [
      "1\n",
      "2\n",
      "2.5\n"
     ]
    }
   ],
   "source": [
    "#Question 6\n",
    "a = 5\n",
    "b = a // 2\n",
    "c = a / 2\n",
    "a = a % 2\n",
    "print(a)\n",
    "print(b)\n",
    "print(c)"
   ]
  },
  {
   "cell_type": "code",
   "execution_count": 26,
   "metadata": {},
   "outputs": [
    {
     "name": "stdout",
     "output_type": "stream",
     "text": [
      "Hello, world!\n",
      "Hello world!\n",
      "3\n",
      "3.0\n",
      "5\n",
      "5.0\n",
      "6\n",
      "8\n",
      "2.3333333333333335\n",
      "2\n"
     ]
    }
   ],
   "source": [
    "#Question 7\n",
    "print(\"Hello, world!\")\n",
    "print(\"Hello\", \"world!\")\n",
    "print(3)\n",
    "print(3.0)\n",
    "print(2 + 3)\n",
    "print(2.0 + 3.0)\n",
    "print(2 * 3)\n",
    "print(2 ** 3) \n",
    "print(7 / 3)\n",
    "print(7 // 3)"
   ]
  },
  {
   "cell_type": "code",
   "execution_count": 1,
   "metadata": {},
   "outputs": [
    {
     "name": "stdout",
     "output_type": "stream",
     "text": [
      "What is your name?\n",
      "Abigeal\n"
     ]
    }
   ],
   "source": [
    "#Question 8\n",
    "name = input('What is your name?\\n')"
   ]
  },
  {
   "cell_type": "code",
   "execution_count": 2,
   "metadata": {},
   "outputs": [
    {
     "name": "stdout",
     "output_type": "stream",
     "text": [
      "How old are you?\n",
      "23\n"
     ]
    }
   ],
   "source": [
    "age = int(input('How old are you?\\n'))"
   ]
  },
  {
   "cell_type": "code",
   "execution_count": 3,
   "metadata": {},
   "outputs": [],
   "source": [
    "from datetime import datetime"
   ]
  },
  {
   "cell_type": "code",
   "execution_count": 4,
   "metadata": {},
   "outputs": [],
   "source": [
    "hundred = int((100-age) + datetime.now().year)"
   ]
  },
  {
   "cell_type": "code",
   "execution_count": 6,
   "metadata": {},
   "outputs": [
    {
     "name": "stdout",
     "output_type": "stream",
     "text": [
      "Hello Abigeal. You are 23 years old. You will turn 100 years old in 2097.\n"
     ]
    }
   ],
   "source": [
    "#use %s to call previously input name, age, and year\n",
    "print('Hello %s. You are %s years old. You will turn 100 years old in %s.' % (name, age, hundred))"
   ]
  },
  {
   "cell_type": "code",
   "execution_count": 11,
   "metadata": {},
   "outputs": [
    {
     "data": {
      "text/plain": [
       "[3, 5, 7, 9, 11, 13, 15, 17]"
      ]
     },
     "execution_count": 11,
     "metadata": {},
     "output_type": "execute_result"
    }
   ],
   "source": [
    "#Question 9\n",
    "list(range (3, 19, 2))"
   ]
  },
  {
   "cell_type": "code",
   "execution_count": 7,
   "metadata": {},
   "outputs": [
    {
     "name": "stdout",
     "output_type": "stream",
     "text": [
      "Line 1 - Value of c is 31\n"
     ]
    }
   ],
   "source": [
    "a = 21\n",
    "b = 10\n",
    "c = 0\n",
    "c = a + b\n",
    "print(\"Line 1 - Value of c is\", c)"
   ]
  },
  {
   "cell_type": "code",
   "execution_count": 12,
   "metadata": {},
   "outputs": [
    {
     "name": "stdout",
     "output_type": "stream",
     "text": [
      "Line 1 - Value of c is 31\n",
      "Line 2 - Value of c is 52\n",
      "Line 3 - Value of c is 1092\n",
      "Line 4 - Value of c is 52.0\n",
      "Line 5 - Value of c is 2\n",
      "Line 6 - Value of c is 2097152\n",
      "Line 7 - Value of c is 99864\n"
     ]
    }
   ],
   "source": [
    "#Question 10\n",
    "a = 21 \n",
    "b = 10 \n",
    "c = 0\n",
    "c = a + b \n",
    "print(\"Line 1 - Value of c is\", c) #21+10=31\n",
    "c += a\n",
    "print(\"Line 2 - Value of c is\", c) #31+21=52\n",
    "c *= a \n",
    "print(\"Line 3 - Value of c is\", c) #52*21=1092\n",
    "c /= a\n",
    "print(\"Line 4 - Value of c is\", c) #1092/21= 52\n",
    "c = 2 \n",
    "c %= a \n",
    "print(\"Line 5 - Value of c is\", c) #2=2\n",
    "c **= a\n",
    "print(\"Line 6 - Value of c is\", c) #2**21=2097152\n",
    "c //= a\n",
    "print(\"Line 7 - Value of c is\", c) #2097152//21=99864"
   ]
  },
  {
   "cell_type": "code",
   "execution_count": null,
   "metadata": {},
   "outputs": [],
   "source": []
  }
 ],
 "metadata": {
  "kernelspec": {
   "display_name": "Python 3",
   "language": "python",
   "name": "python3"
  },
  "language_info": {
   "codemirror_mode": {
    "name": "ipython",
    "version": 3
   },
   "file_extension": ".py",
   "mimetype": "text/x-python",
   "name": "python",
   "nbconvert_exporter": "python",
   "pygments_lexer": "ipython3",
   "version": "3.7.6"
  }
 },
 "nbformat": 4,
 "nbformat_minor": 2
}
